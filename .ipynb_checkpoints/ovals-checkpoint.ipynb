{
 "cells": [
  {
   "cell_type": "code",
   "execution_count": 2,
   "metadata": {},
   "outputs": [],
   "source": [
    "import matplotlib.pyplot as plt"
   ]
  },
  {
   "cell_type": "code",
   "execution_count": 5,
   "metadata": {},
   "outputs": [],
   "source": [
    "import numpy as np\n",
    "import math"
   ]
  },
  {
   "cell_type": "code",
   "execution_count": null,
   "metadata": {},
   "outputs": [],
   "source": [
    "class Figure:\n",
    "    def __init__(self):\n",
    "        super(Figure, self).__init__()\n",
    "        self.points = []\n",
    "    \n",
    "    def draw(self):\n",
    "        x = np.asarray([p.x for p in self.points])\n",
    "        y = np.asarray([p.y for p in self.points])\n",
    "        plt.scatter(x, y, [2 for i in x])\n",
    "        plt.show()\n",
    "        \n",
    "class SuperEllipseHalfed(Figure):\n",
    "    def __init__(self, aOne, bOne, nOne, aTwo, bTwo, nTwo, pointCount):\n",
    "        super(SuperEllipse, self).__init__()\n",
    "        for theta in np.linspace(0, 2*math.pi, num=pointCount, endpoint=False):\n",
    "            cosTheta = math.cos(theta)\n",
    "            sinTheta = math.sin(theta)\n",
    "            if theta < math.pi:\n",
    "                a = aOne\n",
    "                b = bOne\n",
    "                n = nOne\n",
    "            else:\n",
    "                a = aTwo\n",
    "                b = bTwo\n",
    "                n = nTwo\n",
    "            x = a*pow(abs(cosTheta), 2/n)* np.sign(cosTheta)\n",
    "            y = b*pow(abs(sinTheta), 2/n)* np.sign(sinTheta)   \n",
    "            points.append((x, y))\n",
    "    \n"
   ]
  }
 ],
 "metadata": {
  "kernelspec": {
   "display_name": "ovals2",
   "language": "python",
   "name": "ovals2"
  },
  "language_info": {
   "codemirror_mode": {
    "name": "ipython",
    "version": 3
   },
   "file_extension": ".py",
   "mimetype": "text/x-python",
   "name": "python",
   "nbconvert_exporter": "python",
   "pygments_lexer": "ipython3",
   "version": "3.7.1"
  }
 },
 "nbformat": 4,
 "nbformat_minor": 2
}
