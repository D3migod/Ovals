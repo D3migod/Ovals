{
 "cells": [
  {
   "cell_type": "code",
   "execution_count": 1,
   "metadata": {},
   "outputs": [],
   "source": [
    "import matplotlib.pyplot as plt"
   ]
  },
  {
   "cell_type": "code",
   "execution_count": 2,
   "metadata": {},
   "outputs": [],
   "source": [
    "import numpy as np\n",
    "import math"
   ]
  },
  {
   "cell_type": "code",
   "execution_count": 14,
   "metadata": {},
   "outputs": [],
   "source": [
    "class Figure:\n",
    "    def __init__(self):\n",
    "        super(Figure, self).__init__()\n",
    "        self.points = []\n",
    "    \n",
    "    def draw(self, pivotPoints=[]):\n",
    "        x = np.asarray([x for (x, _) in self.points])\n",
    "        y = np.asarray([y for (_, y) in self.points])\n",
    "        plt.scatter(x, y, [2 for i in x])\n",
    "        for (px, py) in pivotPoints:\n",
    "            plt.scatter(px, py, c = 'green')\n",
    "        plt.show()\n",
    "\n",
    "class Ellipse(Figure):\n",
    "    def __init__(self, a, b, pointCount):\n",
    "        super(Ellipse, self).__init__()\n",
    "        for x in np.linspace(-10, 10, num=pointCount):\n",
    "            self.points.append((x, b / a * (a ** 2 - x ** 2) ** 0.5))\n",
    "        \n",
    "class Circle(Ellipse):\n",
    "    def __init__(self, r, pointCount):\n",
    "        super(Circle, self).__init__(r, r, pointCount)\n",
    "        \n",
    "class SuperEllipseHalfed(Figure):\n",
    "    def __init__(self, aOne, bOne, nOne, aTwo, bTwo, nTwo, pointCount):\n",
    "        super(SuperEllipseHalfed, self).__init__()\n",
    "        for theta in np.linspace(0, 2*math.pi, num=pointCount, endpoint=False):\n",
    "            cosTheta = math.cos(theta)\n",
    "            sinTheta = math.sin(theta)\n",
    "            if theta < math.pi:\n",
    "                a = aOne\n",
    "                b = bOne\n",
    "                n = nOne\n",
    "            else:\n",
    "                a = aTwo\n",
    "                b = bTwo\n",
    "                n = nTwo\n",
    "            x = a*pow(abs(cosTheta), 2/n)* np.sign(cosTheta)\n",
    "            y = b*pow(abs(sinTheta), 2/n)* np.sign(sinTheta)   \n",
    "            self.points.append((x, y))\n",
    "    \n",
    "class Oval(Figure):\n",
    "    def __init__(self, e1, e2, center, pointCount):\n",
    "        super(Oval, self).__init__()\n",
    "        points = []\n",
    "        points += list(filter(\n",
    "            lambda p: (\n",
    "                p[0] < 0 and\n",
    "                p[1] > 0\n",
    "            ), e2.points\n",
    "        ))\n",
    "        points += list(filter(\n",
    "            lambda p: (\n",
    "                p[1] >= 0 and\n",
    "                p[0] >= 0\n",
    "            ), e1.points\n",
    "        ))\n",
    "        points += [(2 * center[0] - p[0], 2 * center[1] - p[1]) for p in points]\n",
    "        y_pos = list(filter(lambda p: p[1] >= 0, points))\n",
    "        y_neg = list(filter(lambda p: p[1] < 0, points))\n",
    "        y_pos = sorted(y_pos, key=lambda p: math.acos(p[0]/((p[0]**2 + p[1]**2) ** 0.5)))\n",
    "        y_neg = sorted(y_neg, key=lambda p: math.acos(p[0]/((p[0]**2 + p[1]**2) ** 0.5)), reverse=True)\n",
    "#         y_pos, y_neg = self.filter_nearest(y_pos, self.step), self.filter_nearest(y_neg, self.step)\n",
    "        self.points = y_pos + y_neg\n"
   ]
  },
  {
   "cell_type": "code",
   "execution_count": 15,
   "metadata": {},
   "outputs": [
    {
     "data": {
      "image/png": "[encoded data removed]",
      "text/plain": [
       "<Figure size 432x288 with 1 Axes>"
      ]
     },
     "metadata": {
      "needs_background": "light"
     },
     "output_type": "display_data"
    }
   ],
   "source": [
    "superEllipseHalfed = SuperEllipseHalfed(1, 1, 2, 1, 1, 4, 10000)\n",
    "superEllipseHalfed.draw()"
   ]
  },
  {
   "cell_type": "code",
   "execution_count": 16,
   "metadata": {},
   "outputs": [
    {
     "name": "stderr",
     "output_type": "stream",
     "text": [
      "/usr/local/lib/python3.7/site-packages/ipykernel_launcher.py:18: RuntimeWarning: invalid value encountered in double_scalars\n"
     ]
    },
    {
     "data": {
      "image/png": "[encoded data removed]",
      "text/plain": [
       "<Figure size 432x288 with 1 Axes>"
      ]
     },
     "metadata": {
      "needs_background": "light"
     },
     "output_type": "display_data"
    }
   ],
   "source": [
    "e1 = Ellipse(5, 1, 10000)\n",
    "e2 = Circle(1, 10000)\n",
    "center = (2, 0)\n",
    "\n",
    "oval = Oval(e1, e2, center, 10000)\n",
    "oval.draw()"
   ]
  },
  {
   "cell_type": "code",
   "execution_count": 17,
   "metadata": {},
   "outputs": [],
   "source": [
    "class PivotPointsFinder:\n",
    "    def __init__(self, points, startingCenterIndex, count):\n",
    "        self.points = points\n",
    "        self.startingCenterIndex = startingCenterIndex\n",
    "        self.count = count\n",
    "        \n",
    "    def getEnsemble(self, centerIndex):\n",
    "        radius = int((self.count - 1)/2)\n",
    "        pointsCount = len(self.points)\n",
    "        if centerIndex - radius < 0:\n",
    "            return self.points[centerIndex - radius:] + self.points[:centerIndex + radius + 1]\n",
    "        elif centerIndex + radius >= pointsCount:\n",
    "            return self.points[centerIndex - radius:] + self.points[:centerIndex + radius + 1 - pointsCount]\n",
    "        else:\n",
    "            return self.points[centerIndex - radius:centerIndex + radius + 1]\n",
    "        \n",
    "    def getEnsembleCoefs(self, centerIndex):\n",
    "        ensemble = self.getEnsemble(centerIndex)\n",
    "        coefs = np.array([np.array([pow(x, 2), pow(y, 2), x*y, x, y]) for (x, y) in ensemble])\n",
    "        values = np.repeat(-1, self.count)\n",
    "        return np.linalg.solve(coefs, values)\n",
    "    \n",
    "    def checkIfPivotPoint(self, pivotPoints, initialCoefs, isGoingRight):\n",
    "        currentCoefs = self.getEnsembleCoefs(centerIndex)\n",
    "        for initialCoef, currentCoef in zip(initialCoefs, currentCoefs):\n",
    "            if abs(initialCoef-currentCoef) > threshold:\n",
    "                print(currentCoefs)\n",
    "                print(\"------\")\n",
    "                pivotPoints.append(self.points[centerIndex])\n",
    "    \n",
    "    def findPivotPoints(self, step = 10, threshold = 0.01):\n",
    "        pivotPoints = []\n",
    "        isFound = False\n",
    "        initialCoefs = self.getEnsembleCoefs(self.startingCenterIndex)\n",
    "        print(\"0\")\n",
    "        print(initialCoefs)\n",
    "        print(\"------\")\n",
    "        # center -> right\n",
    "        if self.startingCenterIndex < len(self.points) - 1:\n",
    "            for centerIndex in np.arange(self.startingCenterIndex+1, len(self.points), step):\n",
    "                currentCoefs = self.getEnsembleCoefs(centerIndex)\n",
    "                for initialCoef, currentCoef in zip(initialCoefs, currentCoefs):\n",
    "                    if abs(initialCoef-currentCoef) > threshold:\n",
    "                        print(\"1\")\n",
    "                        print(currentCoefs)\n",
    "                        print(\"------\")\n",
    "                        isFound = True\n",
    "                        pivotPoints.append(self.points[centerIndex])\n",
    "                        break\n",
    "                if isFound:\n",
    "                    initialCoefs = currentCoef\n",
    "                    continue\n",
    "        \n",
    "        for centerIndex in np.arange(0, self.startingCenterIndex, step):\n",
    "            currentCoefs = self.getEnsembleCoefs(centerIndex)\n",
    "            for initialCoef, currentCoef in zip(initialCoefs, currentCoefs):\n",
    "                if abs(initialCoef-currentCoef) > threshold:\n",
    "                    print(\"2\")\n",
    "                    print(currentCoefs)\n",
    "                    print(\"------\")\n",
    "                    isFound = True\n",
    "                    pivotPoints.append(self.points[centerIndex])\n",
    "                    break\n",
    "            if isFound:\n",
    "                initialCoefs = currentCoef\n",
    "                continue\n",
    "        \n",
    "        isFound = False\n",
    "        # left <- center\n",
    "        if self.startingCenterIndex > 0:\n",
    "            for centerIndex in np.arange(self.startingCenterIndex-1, -1, -step):\n",
    "                currentCoefs = self.getEnsembleCoefs(centerIndex)\n",
    "                for initialCoef, currentCoef in zip(initialCoefs, currentCoefs):\n",
    "                    if abs(initialCoef-currentCoef) > threshold:\n",
    "                        print(\"3\")\n",
    "                        print(currentCoefs)\n",
    "                        print(\"------\")\n",
    "                        isFound = True\n",
    "                        if pivotPoints[-1] != self.points[centerIndex]: #check we haven't reached the same point as in center -> right\n",
    "                            pivotPoints.append(self.points[centerIndex])\n",
    "                        break\n",
    "                if isFound:\n",
    "                    initialCoefs = currentCoef\n",
    "                    continue\n",
    "            \n",
    "        for centerIndex in np.arange(len(self.points), self.startingCenterIndex, -step):\n",
    "            currentCoefs = self.getEnsembleCoefs(centerIndex)\n",
    "            for initialCoef, currentCoef in zip(initialCoefs, currentCoefs):\n",
    "                if abs(initialCoef-currentCoef) > threshold:\n",
    "                    print(\"4\")\n",
    "                    print(currentCoefs)\n",
    "                    print(\"------\")\n",
    "                    isFound = True\n",
    "                    if pivotPoints[-1] != self.points[centerIndex]:\n",
    "                        pivotPoints.append(self.points[centerIndex])\n",
    "                    break\n",
    "            if isFound:\n",
    "                initialCoefs = currentCoef\n",
    "                continue\n",
    "        return pivotPoints        "
   ]
  },
  {
   "cell_type": "code",
   "execution_count": 18,
   "metadata": {},
   "outputs": [
    {
     "name": "stdout",
     "output_type": "stream",
     "text": [
      "0\n",
      "[-1.00000007e+00 -9.99999926e-01  9.38350206e-09 -1.08971057e-07\n",
      " -1.01902037e-07]\n",
      "------\n",
      "1\n",
      "[ 9.99997785e-01 -2.25981230e-08 -1.88447861e-03  1.99999779e+00\n",
      " -1.88447898e-03]\n",
      "------\n"
     ]
    },
    {
     "ename": "TypeError",
     "evalue": "zip argument #1 must support iteration",
     "output_type": "error",
     "traceback": [
      "\u001b[0;31m---------------------------------------------------------------------------\u001b[0m",
      "\u001b[0;31mTypeError\u001b[0m                                 Traceback (most recent call last)",
      "\u001b[0;32m<ipython-input-18-52825ae52f6c>\u001b[0m in \u001b[0;36m<module>\u001b[0;34m\u001b[0m\n\u001b[1;32m      1\u001b[0m \u001b[0mpivotPointsFinder\u001b[0m \u001b[0;34m=\u001b[0m \u001b[0mPivotPointsFinder\u001b[0m\u001b[0;34m(\u001b[0m\u001b[0msuperEllipseHalfed\u001b[0m\u001b[0;34m.\u001b[0m\u001b[0mpoints\u001b[0m\u001b[0;34m,\u001b[0m \u001b[0;36m3700\u001b[0m\u001b[0;34m,\u001b[0m \u001b[0;36m5\u001b[0m\u001b[0;34m)\u001b[0m\u001b[0;34m\u001b[0m\u001b[0;34m\u001b[0m\u001b[0m\n\u001b[0;32m----> 2\u001b[0;31m \u001b[0mpivotPoints\u001b[0m \u001b[0;34m=\u001b[0m \u001b[0mpivotPointsFinder\u001b[0m\u001b[0;34m.\u001b[0m\u001b[0mfindPivotPoints\u001b[0m\u001b[0;34m(\u001b[0m\u001b[0mstep\u001b[0m \u001b[0;34m=\u001b[0m \u001b[0;36m1\u001b[0m\u001b[0;34m)\u001b[0m\u001b[0;34m\u001b[0m\u001b[0;34m\u001b[0m\u001b[0m\n\u001b[0m\u001b[1;32m      3\u001b[0m \u001b[0mprint\u001b[0m\u001b[0;34m(\u001b[0m\u001b[0mpivotPoints\u001b[0m\u001b[0;34m)\u001b[0m\u001b[0;34m\u001b[0m\u001b[0;34m\u001b[0m\u001b[0m\n",
      "\u001b[0;32m<ipython-input-17-c17cc2d9fea5>\u001b[0m in \u001b[0;36mfindPivotPoints\u001b[0;34m(self, step, threshold)\u001b[0m\n\u001b[1;32m     32\u001b[0m             \u001b[0;32mfor\u001b[0m \u001b[0mcenterIndex\u001b[0m \u001b[0;32min\u001b[0m \u001b[0mnp\u001b[0m\u001b[0;34m.\u001b[0m\u001b[0marange\u001b[0m\u001b[0;34m(\u001b[0m\u001b[0mself\u001b[0m\u001b[0;34m.\u001b[0m\u001b[0mstartingCenterIndex\u001b[0m\u001b[0;34m+\u001b[0m\u001b[0;36m1\u001b[0m\u001b[0;34m,\u001b[0m \u001b[0mlen\u001b[0m\u001b[0;34m(\u001b[0m\u001b[0mself\u001b[0m\u001b[0;34m.\u001b[0m\u001b[0mpoints\u001b[0m\u001b[0;34m)\u001b[0m\u001b[0;34m,\u001b[0m \u001b[0mstep\u001b[0m\u001b[0;34m)\u001b[0m\u001b[0;34m:\u001b[0m\u001b[0;34m\u001b[0m\u001b[0;34m\u001b[0m\u001b[0m\n\u001b[1;32m     33\u001b[0m                 \u001b[0mcurrentCoefs\u001b[0m \u001b[0;34m=\u001b[0m \u001b[0mself\u001b[0m\u001b[0;34m.\u001b[0m\u001b[0mgetEnsembleCoefs\u001b[0m\u001b[0;34m(\u001b[0m\u001b[0mcenterIndex\u001b[0m\u001b[0;34m)\u001b[0m\u001b[0;34m\u001b[0m\u001b[0;34m\u001b[0m\u001b[0m\n\u001b[0;32m---> 34\u001b[0;31m                 \u001b[0;32mfor\u001b[0m \u001b[0minitialCoef\u001b[0m\u001b[0;34m,\u001b[0m \u001b[0mcurrentCoef\u001b[0m \u001b[0;32min\u001b[0m \u001b[0mzip\u001b[0m\u001b[0;34m(\u001b[0m\u001b[0minitialCoefs\u001b[0m\u001b[0;34m,\u001b[0m \u001b[0mcurrentCoefs\u001b[0m\u001b[0;34m)\u001b[0m\u001b[0;34m:\u001b[0m\u001b[0;34m\u001b[0m\u001b[0;34m\u001b[0m\u001b[0m\n\u001b[0m\u001b[1;32m     35\u001b[0m                     \u001b[0;32mif\u001b[0m \u001b[0mabs\u001b[0m\u001b[0;34m(\u001b[0m\u001b[0minitialCoef\u001b[0m\u001b[0;34m-\u001b[0m\u001b[0mcurrentCoef\u001b[0m\u001b[0;34m)\u001b[0m \u001b[0;34m>\u001b[0m \u001b[0mthreshold\u001b[0m\u001b[0;34m:\u001b[0m\u001b[0;34m\u001b[0m\u001b[0;34m\u001b[0m\u001b[0m\n\u001b[1;32m     36\u001b[0m                         \u001b[0mprint\u001b[0m\u001b[0;34m(\u001b[0m\u001b[0;34m\"1\"\u001b[0m\u001b[0;34m)\u001b[0m\u001b[0;34m\u001b[0m\u001b[0;34m\u001b[0m\u001b[0m\n",
      "\u001b[0;31mTypeError\u001b[0m: zip argument #1 must support iteration"
     ]
    }
   ],
   "source": [
    "pivotPointsFinder = PivotPointsFinder(superEllipseHalfed.points, 3700, 5)\n",
    "pivotPoints = pivotPointsFinder.findPivotPoints(step = 1)\n",
    "print(pivotPoints)"
   ]
  },
  {
   "cell_type": "code",
   "execution_count": 36,
   "metadata": {},
   "outputs": [
    {
     "data": {
      "image/png": "[encoded data removed]",
      "text/plain": [
       "<Figure size 432x288 with 1 Axes>"
      ]
     },
     "metadata": {
      "needs_background": "light"
     },
     "output_type": "display_data"
    }
   ],
   "source": [
    "superEllipseHalfed.draw(pivotPoints)"
   ]
  },
  {
   "cell_type": "code",
   "execution_count": 11,
   "metadata": {},
   "outputs": [
    {
     "name": "stdout",
     "output_type": "stream",
     "text": [
      "0\n",
      "[-1.11263245e-01 -2.78144553e+00 -7.46834895e-04  8.89030077e-01\n",
      " -2.20028937e-03]\n",
      "------\n",
      "1\n",
      "[-1.11072600e-01 -2.77684772e+00  1.89016170e-04  8.88852857e-01\n",
      "  5.57940466e-04]\n",
      "------\n",
      "3\n",
      "[-1.10933554e-01 -2.77350284e+00  8.71765463e-04  8.88725145e-01\n",
      "  2.56454900e-03]\n",
      "------\n",
      "[(0.4026402640264024, -0.6945215023308053), (0.39863986398639817, -0.6936917231950255)]\n"
     ]
    },
    {
     "data": {
      "image/png": "[encoded data removed]",
      "text/plain": [
       "<Figure size 432x288 with 1 Axes>"
      ]
     },
     "metadata": {
      "needs_background": "light"
     },
     "output_type": "display_data"
    }
   ],
   "source": [
    "pivotPointsFinder = PivotPointsFinder(oval.points, 3700, 5)\n",
    "pivotPoints = pivotPointsFinder.findPivotPoints(step = 1, threshold = 0.0001)\n",
    "print(pivotPoints)\n",
    "oval.draw(pivotPoints)"
   ]
  },
  {
   "cell_type": "code",
   "execution_count": null,
   "metadata": {},
   "outputs": [],
   "source": [
    "class StandardCoordinateSystemTransformer:\n",
    "    def transform(points, cPoints):\n",
    "        z = c[6]*x+c[7]*y+1\n",
    "        return list(map(lambda (x, y): ((c[0]*x+c[1]*y+c[2])/z,(c[3]*x+c[4]*y+c[5])/z), points))"
   ]
  },
  {
   "cell_type": "code",
   "execution_count": null,
   "metadata": {},
   "outputs": [],
   "source": [
    "import sys\n",
    "# Proektivno-invariantnoe otobrazhenie figur \n",
    "class WurfMapper:\n",
    "    def segmentLength(p1, p2):\n",
    "        return pow(pow((p1[0] - p2[0]), 2) + pow((p1[1] - p2[1]), 2), 1/2)\n",
    "    \n",
    "    def wurf(p1, p2, p3, p4):\n",
    "        sortedList = sorted([p1, p2, p3, p4], key=lambda p: segmentLength(p1, p))\n",
    "        p2 = sortedList[1]\n",
    "        p3 = sortedList[2]\n",
    "        p4 = sortedList[3]\n",
    "        \n",
    "        a = segmentLength(p1, p2)\n",
    "        b = segmentLength(p3, p2)\n",
    "        c = segmentLength(p4, p3)\n",
    "        \n",
    "        return a*c/(b(a+b+c))\n",
    "    \n",
    "    # Point of intersection between two lines represented in the form of kx + b\n",
    "    def intersectionPoint(k1, b1, k2, b2):\n",
    "        return (-(b1 - b2) / (k1 - k2), k1 * x + b1) if k1 != k2 else None\n",
    "    \n",
    "    def getP(points, pivotPoint1Index, pivotPoint2Index):\n",
    "        k1, b1 = tangent(points[pivotPoint1Index-2], points[pivotPoint1Index-1], points[pivotPoint1Index], points[(pivotPoint1Index+1)%len(points)], points[(pivotPoint1Index+1)%len(points)])\n",
    "        k2, b2 = tangent(points[pivotPoint2Index-2], points[pivotPoint1Index-1], points[pivotPoint1Index], points[(pivotPoint1Index+1)%len(points)], points[(pivotPoint1Index+1)%len(points)])\n",
    "        return intersectionPoint(k1, b1, k2, b2)\n",
    "    \n",
    "    def getPj(points, pivotPoint1Index, pivotPoint2Index, P, Pi):\n",
    "        k1, b1 = getLineByPoints(points[pivotPoint1Index], points[pivotPoint2Index])\n",
    "        k2, b2 = getLineByPoints(P, Pi)\n",
    "        return intersectionPoint(k1, b1, k2, b2)\n",
    "    \n",
    "    # Find closest point to the line [P, P_i] among points forming the oval (find P_k)\n",
    "    def getPk(points, k, b, pivotPoint1Index, pivotPoint2Index):\n",
    "        minDelta = Integer.MAX_VALUE\n",
    "        kOpt = 0\n",
    "        numPoints = len(points)\n",
    "\n",
    "        k1 = pivotPoint2Index\n",
    "        while k1 != pivotPoint1Index:\n",
    "            delta = geometry.line2pointDist((crossPoint, points[k]), points[k1])\n",
    "            if delta <= minDelta:\n",
    "                minDelta = delta\n",
    "                kOpt = k1\n",
    "            elif minDelta < 10:\n",
    "                return kOpt\n",
    "            else:\n",
    "                return None\n",
    "            k1 = (k1 + 1) % numPoints\n",
    "\n",
    "        if minDelta > 10:\n",
    "            return None\n",
    "        else:\n",
    "            return kOpt\n",
    "    \n",
    "    def getTi(points, i, pivotPoint1Index, pivotPoint2Index):\n",
    "        k1, b1 = tangent(points[i-2], points[i-1], points[i], points[i+1], points[i+2])\n",
    "        k2, b2 = getLineByPoints(points[pivotPoint1Index], points[pivotPoint2Index])\n",
    "        return intersectionPoint(k1, b1, k2, b2)\n",
    "    \n",
    "    def buildWf1Wf2(points, pivotPoint1Index, pivotPoint2Index):\n",
    "        P = getP(points, pivotPoint1Index, pivotPoint2Index)\n",
    "        A = points[pivotPoint1Index]\n",
    "        B = points[pivotPoint2Index]\n",
    "        wf1s = []\n",
    "        wf2s = []\n",
    "        for i in [pivotPoint1Index+1:pivotPoint2Index]:\n",
    "            Pi = points[i]\n",
    "            Pj = getPj(points, pivotPoint1Index, pivotPoint2Index, P, Pi)\n",
    "            k, b = getLineByPoints(P, Pi)\n",
    "            Pk = getPk(points, k, b, pivotPoint1Index, pivotPoint2Index)\n",
    "            wf1s.append(wurf(P, Pi, Pj, Pk))\n",
    "            Ti = getTi(points, i, pivotPoint1Index, pivotPoint2Index)\n",
    "            wf2s.append(wurf(Ti, A, Pj, B))\n",
    "        plotWf1Wf2(wf1s, wf2s)\n",
    "            \n",
    "    def plotWf1Wf2(wf1s, wf2s):\n",
    "        plt.plot(wf1s, wf2s, 'ro')\n",
    "        plt.show()\n",
    "        \n",
    "    # Returns k, b of a line which p1, p2 lie on\n",
    "    def getLineByPoints(p1, p2):\n",
    "        x1, y1 = p1\n",
    "        x2, y2 = p2\n",
    "        k = (y2-y1)/(x2-x1)\n",
    "        b = y2 - k*x2\n",
    "        return (k, b)\n",
    "    \n",
    "    # Distance between line represented by two points and p\n",
    "    def line2pointDist(l, p):\n",
    "        p1, p2 = l\n",
    "        x1, y1 = p1\n",
    "        x2, y2 = p2\n",
    "        x, y = p\n",
    "        A = y2 - y1\n",
    "        B = x2 - x1\n",
    "        C = x2*y1 - y2*x1\n",
    "        d = abs(A * x - B * y + C * 1.0) / (A ** 2 + B ** 2) ** 0.5\n",
    "        return d\n",
    "        \n",
    "    # df = (y2-y1)/(x2-x1)\n",
    "    def derivative(a1, a2, c1, c2):\n",
    "        a1x, a1y = a1\n",
    "        a2x, a2y = a2\n",
    "        c1x, c1y = c1\n",
    "        c2x, c2y = c2\n",
    "        return (\n",
    "            (a1y + a2y - c1y - c2y) /\n",
    "            (a1x + a2x - c1x - c2x)\n",
    "        )\n",
    "    \n",
    "    # y = f ’(x0) · (x − x0) + f (x0)\n",
    "    # Returns (k, b)\n",
    "    def tangent(a1, a2, current, c1, c2):\n",
    "        if a1[0] + a2[0] - c1[0] - c2[0] == 0:\n",
    "            return None\n",
    "        return (derivative(a1, a2, c1, c2), current[1] - k * current[0])\n",
    "    \n",
    "    "
   ]
  }
 ],
 "metadata": {
  "kernelspec": {
   "display_name": "Python 3",
   "language": "python",
   "name": "python3"
  },
  "language_info": {
   "codemirror_mode": {
    "name": "ipython",
    "version": 3
   },
   "file_extension": ".py",
   "mimetype": "text/x-python",
   "name": "python",
   "nbconvert_exporter": "python",
   "pygments_lexer": "ipython3",
   "version": "3.7.1"
  }
 },
 "nbformat": 4,
 "nbformat_minor": 2
}
